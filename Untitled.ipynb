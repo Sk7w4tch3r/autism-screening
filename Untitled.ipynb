{
 "cells": [
  {
   "cell_type": "code",
   "execution_count": 45,
   "metadata": {},
   "outputs": [],
   "source": [
    "# first start with converting subjects data to csv file format.\n",
    "import csv\n",
    "from numpy.random import randn\n",
    "from numpy.random import seed\n",
    "from scipy.stats import pearsonr\n",
    "from pylab    import *\n",
    "from numpy    import *\n",
    "import pandas as pd\n",
    "from os import listdir\n",
    "from os.path import isfile, join\n",
    "\n",
    "directory = \"C:\\\\Users\\\\Sk7w4tch3r\\\\Desktop\\\\Fifth One\\\\Numerical Linear Algebra\\\\Project\\\\autism-screening\\\\usm site\"\n",
    "outDirectory = directory + \"\\\\csv\\\\\"\n",
    "\n",
    "fileTitles = [f for f in listdir(directory) if isfile(join(directory, f))]\n",
    "csvFileTitles = [f[:len(f)-3]+\".csv\" for f in fileTitles]\n",
    "\n",
    "\n",
    "def _1DtoCsv(D, CSV):\n",
    "    input = open(directory + \"\\\\\" + D, \"r\")\n",
    "    output = open(outDirectory + CSV, \"w\")\n",
    "    for i in input:\n",
    "        csv.writer(output).writerow(i.split())\n",
    "\n",
    "for i in range(len(fileTitles)):\n",
    "    _1DtoCsv(fileTitles[i], csvFileTitles[i])\n",
    "#     dataframe = pd.read_csv(outDirectory + csvFileTitles[i])\n",
    "#     dataframe.dropna()\n",
    "#     dataframe.to_csv(outDirectory + csvFileTitles[i], header = True)\n"
   ]
  },
  {
   "cell_type": "code",
   "execution_count": null,
   "metadata": {},
   "outputs": [],
   "source": []
  },
  {
   "cell_type": "code",
   "execution_count": null,
   "metadata": {},
   "outputs": [],
   "source": []
  },
  {
   "cell_type": "code",
   "execution_count": null,
   "metadata": {},
   "outputs": [],
   "source": []
  },
  {
   "cell_type": "code",
   "execution_count": null,
   "metadata": {},
   "outputs": [],
   "source": []
  },
  {
   "cell_type": "code",
   "execution_count": null,
   "metadata": {},
   "outputs": [],
   "source": []
  },
  {
   "cell_type": "code",
   "execution_count": null,
   "metadata": {},
   "outputs": [],
   "source": []
  }
 ],
 "metadata": {
  "kernelspec": {
   "display_name": "Python 3",
   "language": "python",
   "name": "python3"
  },
  "language_info": {
   "codemirror_mode": {
    "name": "ipython",
    "version": 3
   },
   "file_extension": ".py",
   "mimetype": "text/x-python",
   "name": "python",
   "nbconvert_exporter": "python",
   "pygments_lexer": "ipython3",
   "version": "3.8.0"
  }
 },
 "nbformat": 4,
 "nbformat_minor": 2
}
